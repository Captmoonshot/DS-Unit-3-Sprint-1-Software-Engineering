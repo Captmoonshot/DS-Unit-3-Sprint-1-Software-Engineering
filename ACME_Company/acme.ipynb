{
 "cells": [
  {
   "cell_type": "code",
   "execution_count": 27,
   "metadata": {},
   "outputs": [
    {
     "name": "stdout",
     "output_type": "stream",
     "text": [
      "30\n"
     ]
    },
    {
     "data": {
      "text/plain": [
       "[('Shiny', 'CatapultDisguiseMousetrap'),\n",
       " ('Portable', '???'),\n",
       " ('Shiny', 'CatapultDisguiseMousetrap'),\n",
       " ('Shiny', 'CatapultDisguiseMousetrap'),\n",
       " ('Impressive', '???'),\n",
       " ('Portable', '???'),\n",
       " ('Portable', 'CatapultDisguiseMousetrap'),\n",
       " ('Impressive', 'CatapultDisguiseMousetrap'),\n",
       " ('Awesome', 'CatapultDisguiseMousetrap'),\n",
       " ('Awesome', 'CatapultDisguiseMousetrap'),\n",
       " ('Portable', 'Anvil'),\n",
       " ('Awesome', 'Anvil'),\n",
       " ('Portable', '???'),\n",
       " ('Portable', 'Anvil'),\n",
       " ('Impressive', '???'),\n",
       " ('Portable', '???'),\n",
       " ('Awesome', 'CatapultDisguiseMousetrap'),\n",
       " ('Portable', 'CatapultDisguiseMousetrap'),\n",
       " ('Impressive', 'Anvil'),\n",
       " ('Portable', 'CatapultDisguiseMousetrap'),\n",
       " ('Awesome', 'CatapultDisguiseMousetrap'),\n",
       " ('Improved', 'CatapultDisguiseMousetrap'),\n",
       " ('Shiny', 'Anvil'),\n",
       " ('Impressive', '???'),\n",
       " ('Shiny', 'Anvil'),\n",
       " ('Shiny', 'CatapultDisguiseMousetrap'),\n",
       " ('Awesome', 'Anvil'),\n",
       " ('Portable', 'Anvil'),\n",
       " ('Portable', '???'),\n",
       " ('Improved', 'Anvil')]"
      ]
     },
     "execution_count": 27,
     "metadata": {},
     "output_type": "execute_result"
    }
   ],
   "source": [
    "import random\n",
    "from random import choices\n",
    "import acme\n",
    "from acme import *\n",
    "\n",
    "adj = ['Awesome', 'Shiny', 'Impressive', 'Portable', 'Impressive', 'Portable', 'Improved']\n",
    "\n",
    "noun = ['Anvil', 'Catapult' 'Disguise' 'Mousetrap', '???']\n",
    "\n",
    "def generate_products():\n",
    "    adj_random = choices(adj, k=30)\n",
    "    noun_random = choices(noun, k=30)\n",
    "\n",
    "    random_products = [pair for pair in zip(adj_random, noun_random)]\n",
    "\n",
    "    #print(random_products)\n",
    "    print(len(random_products))\n",
    "\n",
    "    return random_products\n",
    "\n",
    "generate_products()"
   ]
  },
  {
   "cell_type": "code",
   "execution_count": 25,
   "metadata": {},
   "outputs": [
    {
     "name": "stdout",
     "output_type": "stream",
     "text": [
      "[('Shiny', 'Anvil'), ('Impressive', '???'), ('Portable', '???'), ('Impressive', '???'), ('Impressive', 'CatapultDisguiseMousetrap'), ('Portable', '???'), ('Impressive', 'CatapultDisguiseMousetrap'), ('Improved', 'Anvil'), ('Impressive', 'CatapultDisguiseMousetrap'), ('Impressive', '???'), ('Portable', '???'), ('Impressive', '???'), ('Portable', '???'), ('Awesome', 'CatapultDisguiseMousetrap'), ('Impressive', 'Anvil'), ('Portable', 'CatapultDisguiseMousetrap'), ('Shiny', 'CatapultDisguiseMousetrap'), ('Improved', 'CatapultDisguiseMousetrap'), ('Impressive', '???'), ('Awesome', '???'), ('Shiny', 'CatapultDisguiseMousetrap'), ('Shiny', 'CatapultDisguiseMousetrap'), ('Shiny', 'CatapultDisguiseMousetrap'), ('Impressive', '???'), ('Impressive', '???'), ('Awesome', '???'), ('Portable', 'CatapultDisguiseMousetrap'), ('Awesome', 'Anvil'), ('Awesome', 'Anvil'), ('Improved', 'CatapultDisguiseMousetrap')]\n",
      "\n",
      "List of Products:\n",
      "\n",
      "Shiny:Anvil\n",
      "Impressive:???\n",
      "Portable:???\n",
      "Impressive:???\n",
      "Impressive:CatapultDisguiseMousetrap\n",
      "Portable:???\n",
      "Impressive:CatapultDisguiseMousetrap\n",
      "Improved:Anvil\n",
      "Impressive:CatapultDisguiseMousetrap\n",
      "Impressive:???\n",
      "Portable:???\n",
      "Impressive:???\n",
      "Portable:???\n",
      "Awesome:CatapultDisguiseMousetrap\n",
      "Impressive:Anvil\n",
      "Portable:CatapultDisguiseMousetrap\n",
      "Shiny:CatapultDisguiseMousetrap\n",
      "Improved:CatapultDisguiseMousetrap\n",
      "Impressive:???\n",
      "Awesome:???\n",
      "Shiny:CatapultDisguiseMousetrap\n",
      "Shiny:CatapultDisguiseMousetrap\n",
      "Shiny:CatapultDisguiseMousetrap\n",
      "Impressive:???\n",
      "Impressive:???\n",
      "Awesome:???\n",
      "Portable:CatapultDisguiseMousetrap\n",
      "Awesome:Anvil\n",
      "Awesome:Anvil\n",
      "Improved:CatapultDisguiseMousetrap\n",
      "\n",
      "Unique product names:  12\n"
     ]
    }
   ],
   "source": [
    "def inventory_report(products_list):\n",
    "\t\"\"\"\n",
    "\tRun ```inventory_report(generate_products())``` on the \n",
    "\tpython interactive prompt.\n",
    "\t\"\"\"\n",
    "\tprint(\"\\nList of Products:\\n\")\n",
    "\tfor i, j in products_list:\n",
    "\t\tprint(f'{i}:{j}')\n",
    "\n",
    "\tprint()\n",
    "\tproducts_list_set = set(products_list)\n",
    "\tprint(\"Unique product names: \", len(products_list_set))\n",
    "\n",
    "\n",
    "inventory_report(generate_products())"
   ]
  },
  {
   "cell_type": "code",
   "execution_count": null,
   "metadata": {},
   "outputs": [],
   "source": []
  },
  {
   "cell_type": "code",
   "execution_count": null,
   "metadata": {},
   "outputs": [],
   "source": []
  }
 ],
 "metadata": {
  "kernelspec": {
   "display_name": "Python 3",
   "language": "python",
   "name": "python3"
  },
  "language_info": {
   "codemirror_mode": {
    "name": "ipython",
    "version": 3
   },
   "file_extension": ".py",
   "mimetype": "text/x-python",
   "name": "python",
   "nbconvert_exporter": "python",
   "pygments_lexer": "ipython3",
   "version": "3.6.5"
  }
 },
 "nbformat": 4,
 "nbformat_minor": 2
}
