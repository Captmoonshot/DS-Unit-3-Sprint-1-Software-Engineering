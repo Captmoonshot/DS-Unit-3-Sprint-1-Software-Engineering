{
 "cells": [
  {
   "cell_type": "code",
   "execution_count": 16,
   "metadata": {},
   "outputs": [
    {
     "name": "stdout",
     "output_type": "stream",
     "text": [
      "[('Shiny', 'Anvil'), ('Portable', 'Anvil'), ('Awesome', '???'), ('Awesome', 'CatapultDisguiseMousetrap'), ('Portable', 'CatapultDisguiseMousetrap'), ('Shiny', 'CatapultDisguiseMousetrap'), ('Impressive', 'CatapultDisguiseMousetrap'), ('Shiny', 'CatapultDisguiseMousetrap'), ('Portable', '???'), ('Impressive', 'CatapultDisguiseMousetrap'), ('Impressive', 'CatapultDisguiseMousetrap'), ('Shiny', '???'), ('Awesome', 'CatapultDisguiseMousetrap'), ('Shiny', 'Anvil'), ('Portable', '???'), ('Improved', '???'), ('Awesome', 'Anvil'), ('Shiny', 'CatapultDisguiseMousetrap'), ('Impressive', 'CatapultDisguiseMousetrap'), ('Improved', '???'), ('Impressive', 'CatapultDisguiseMousetrap'), ('Awesome', '???'), ('Portable', 'Anvil'), ('Improved', 'CatapultDisguiseMousetrap'), ('Portable', 'CatapultDisguiseMousetrap'), ('Impressive', 'Anvil'), ('Portable', 'CatapultDisguiseMousetrap'), ('Portable', '???'), ('Improved', 'CatapultDisguiseMousetrap'), ('Portable', 'CatapultDisguiseMousetrap')]\n"
     ]
    },
    {
     "data": {
      "text/plain": [
       "[('Shiny', 'Anvil'),\n",
       " ('Portable', 'Anvil'),\n",
       " ('Awesome', '???'),\n",
       " ('Awesome', 'CatapultDisguiseMousetrap'),\n",
       " ('Portable', 'CatapultDisguiseMousetrap'),\n",
       " ('Shiny', 'CatapultDisguiseMousetrap'),\n",
       " ('Impressive', 'CatapultDisguiseMousetrap'),\n",
       " ('Shiny', 'CatapultDisguiseMousetrap'),\n",
       " ('Portable', '???'),\n",
       " ('Impressive', 'CatapultDisguiseMousetrap'),\n",
       " ('Impressive', 'CatapultDisguiseMousetrap'),\n",
       " ('Shiny', '???'),\n",
       " ('Awesome', 'CatapultDisguiseMousetrap'),\n",
       " ('Shiny', 'Anvil'),\n",
       " ('Portable', '???'),\n",
       " ('Improved', '???'),\n",
       " ('Awesome', 'Anvil'),\n",
       " ('Shiny', 'CatapultDisguiseMousetrap'),\n",
       " ('Impressive', 'CatapultDisguiseMousetrap'),\n",
       " ('Improved', '???'),\n",
       " ('Impressive', 'CatapultDisguiseMousetrap'),\n",
       " ('Awesome', '???'),\n",
       " ('Portable', 'Anvil'),\n",
       " ('Improved', 'CatapultDisguiseMousetrap'),\n",
       " ('Portable', 'CatapultDisguiseMousetrap'),\n",
       " ('Impressive', 'Anvil'),\n",
       " ('Portable', 'CatapultDisguiseMousetrap'),\n",
       " ('Portable', '???'),\n",
       " ('Improved', 'CatapultDisguiseMousetrap'),\n",
       " ('Portable', 'CatapultDisguiseMousetrap')]"
      ]
     },
     "execution_count": 16,
     "metadata": {},
     "output_type": "execute_result"
    }
   ],
   "source": [
    "import random\n",
    "from random import choices\n",
    "import acme\n",
    "from acme import *\n",
    "\n",
    "adj = ['Awesome', 'Shiny', 'Impressive', 'Portable', 'Impressive', 'Portable', 'Improved']\n",
    "\n",
    "noun = ['Anvil', 'Catapult' 'Disguise' 'Mousetrap', '???']\n",
    "\n",
    "def generate_products():\n",
    "    adj_random = choices(adj, k=30)\n",
    "    noun_random = choices(noun, k=30)\n",
    "\n",
    "    random_products = [pair for pair in zip(adj_random, noun_random)]\n",
    "\n",
    "    print(random_products)\n",
    "\n",
    "    return random_products\n",
    "\n",
    "generate_products()"
   ]
  },
  {
   "cell_type": "code",
   "execution_count": 20,
   "metadata": {},
   "outputs": [
    {
     "name": "stdout",
     "output_type": "stream",
     "text": [
      "[('Portable', 'Anvil'), ('Improved', '???'), ('Portable', 'CatapultDisguiseMousetrap'), ('Awesome', 'Anvil'), ('Impressive', 'CatapultDisguiseMousetrap'), ('Portable', '???'), ('Shiny', '???'), ('Shiny', 'CatapultDisguiseMousetrap'), ('Shiny', '???'), ('Improved', '???'), ('Portable', 'Anvil'), ('Shiny', 'CatapultDisguiseMousetrap'), ('Portable', 'CatapultDisguiseMousetrap'), ('Improved', '???'), ('Shiny', '???'), ('Shiny', 'CatapultDisguiseMousetrap'), ('Improved', '???'), ('Awesome', '???'), ('Shiny', 'CatapultDisguiseMousetrap'), ('Portable', 'Anvil'), ('Improved', 'Anvil'), ('Improved', 'Anvil'), ('Shiny', 'Anvil'), ('Shiny', '???'), ('Shiny', 'CatapultDisguiseMousetrap'), ('Awesome', 'Anvil'), ('Impressive', 'CatapultDisguiseMousetrap'), ('Impressive', 'CatapultDisguiseMousetrap'), ('Portable', 'Anvil'), ('Awesome', 'CatapultDisguiseMousetrap')]\n",
      "\n",
      "List of Products:\n",
      "\n",
      "Portable:Anvil\n",
      "Improved:???\n",
      "Portable:CatapultDisguiseMousetrap\n",
      "Awesome:Anvil\n",
      "Impressive:CatapultDisguiseMousetrap\n",
      "Portable:???\n",
      "Shiny:???\n",
      "Shiny:CatapultDisguiseMousetrap\n",
      "Shiny:???\n",
      "Improved:???\n",
      "Portable:Anvil\n",
      "Shiny:CatapultDisguiseMousetrap\n",
      "Portable:CatapultDisguiseMousetrap\n",
      "Improved:???\n",
      "Shiny:???\n",
      "Shiny:CatapultDisguiseMousetrap\n",
      "Improved:???\n",
      "Awesome:???\n",
      "Shiny:CatapultDisguiseMousetrap\n",
      "Portable:Anvil\n",
      "Improved:Anvil\n",
      "Improved:Anvil\n",
      "Shiny:Anvil\n",
      "Shiny:???\n",
      "Shiny:CatapultDisguiseMousetrap\n",
      "Awesome:Anvil\n",
      "Impressive:CatapultDisguiseMousetrap\n",
      "Impressive:CatapultDisguiseMousetrap\n",
      "Portable:Anvil\n",
      "Awesome:CatapultDisguiseMousetrap\n",
      "\n",
      "Unique product names:  12\n"
     ]
    }
   ],
   "source": [
    "def inventory_report(products_list):\n",
    "\t\"\"\"\n",
    "\tRun ```inventory_report(generate_products())``` on the \n",
    "\tpython interactive prompt.\n",
    "\t\"\"\"\n",
    "\tprint(\"\\nList of Products:\\n\")\n",
    "\tfor i, j in products_list:\n",
    "\t\tprint(f'{i}:{j}')\n",
    "\n",
    "\tprint()\n",
    "\tproducts_list_set = set(products_list)\n",
    "\tprint(\"Unique product names: \", len(products_list_set))\n",
    "\n",
    "\n",
    "inventory_report(generate_products())"
   ]
  },
  {
   "cell_type": "code",
   "execution_count": null,
   "metadata": {},
   "outputs": [],
   "source": [
    "type"
   ]
  }
 ],
 "metadata": {
  "kernelspec": {
   "display_name": "Python 3",
   "language": "python",
   "name": "python3"
  },
  "language_info": {
   "codemirror_mode": {
    "name": "ipython",
    "version": 3
   },
   "file_extension": ".py",
   "mimetype": "text/x-python",
   "name": "python",
   "nbconvert_exporter": "python",
   "pygments_lexer": "ipython3",
   "version": "3.6.5"
  }
 },
 "nbformat": 4,
 "nbformat_minor": 2
}
